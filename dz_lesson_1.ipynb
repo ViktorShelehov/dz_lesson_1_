{
 "cells": [
  {
   "cell_type": "markdown",
   "metadata": {},
   "source": [
    "# Задача № 2\n",
    "\n",
    "На складе лежат разные фрукты в разном количестве.\n",
    "\n",
    "* Нужно написать функцию, которая на вход принимает любое количество названий фруктов и их количество, а возвращает общее количество фруктов на складе\n"
   ]
  },
  {
   "cell_type": "code",
   "execution_count": 1,
   "metadata": {},
   "outputs": [],
   "source": [
    "def calculate_total_fruit_quantity(**fruits):\n",
    "    total_quantity = 0\n",
    "    for fruit, quantity in fruits.items():\n",
    "        total_quantity += quantity\n",
    "    return total_quantity"
   ]
  },
  {
   "cell_type": "code",
   "execution_count": 5,
   "metadata": {},
   "outputs": [],
   "source": [
    "fruits_in_warehouse = {\n",
    "    \"Яблоки\": 50,\n",
    "    \"Бананы\": 30,\n",
    "    \"Апельсины\": 40\n",
    "}"
   ]
  },
  {
   "cell_type": "code",
   "execution_count": 7,
   "metadata": {},
   "outputs": [
    {
     "name": "stdout",
     "output_type": "stream",
     "text": [
      "Общее количество фруктов на складе: 120\n"
     ]
    }
   ],
   "source": [
    "total_quantity = calculate_total_fruit_quantity(**fruits_in_warehouse)\n",
    "print(f\"Общее количество фруктов на складе: {total_quantity}\")"
   ]
  },
  {
   "cell_type": "markdown",
   "metadata": {},
   "source": [
    "# Задача № 3\n",
    "\n",
    "Дан список с затратами на рекламу.\n",
    "\n",
    "* Но в данных есть ошибки, некоторые затраты имеют отрицательную величину. Удалите такие значения из списка и посчитайте суммарные затраты\n",
    "[100, 125, -90, 345, 655, -1, 0, 200]\n",
    "Используйте list comprehensions\n"
   ]
  },
  {
   "cell_type": "code",
   "execution_count": 8,
   "metadata": {},
   "outputs": [
    {
     "name": "stdout",
     "output_type": "stream",
     "text": [
      "Затраты без отрицательных значений: [100, 125, 345, 655, 0, 200]\n",
      "Суммарные затраты: 1425\n"
     ]
    }
   ],
   "source": [
    "expenses = [100, 125, -90, 345, 655, -1, 0, 200]\n",
    "filtered_expenses = [expense for expense in expenses if expense >= 0]\n",
    "total_expenses = sum(filtered_expenses)\n",
    "\n",
    "print(\"Затраты без отрицательных значений:\", filtered_expenses)\n",
    "print(\"Суммарные затраты:\", total_expenses)"
   ]
  }
 ],
 "metadata": {
  "kernelspec": {
   "display_name": "Python 3",
   "language": "python",
   "name": "python3"
  },
  "language_info": {
   "codemirror_mode": {
    "name": "ipython",
    "version": 3
   },
   "file_extension": ".py",
   "mimetype": "text/x-python",
   "name": "python",
   "nbconvert_exporter": "python",
   "pygments_lexer": "ipython3",
   "version": "3.11.5"
  },
  "orig_nbformat": 4
 },
 "nbformat": 4,
 "nbformat_minor": 2
}
